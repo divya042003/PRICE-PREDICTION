{
  "nbformat": 4,
  "nbformat_minor": 0,
  "metadata": {
    "colab": {
      "provenance": [],
      "include_colab_link": true
    },
    "kernelspec": {
      "name": "python3",
      "display_name": "Python 3"
    },
    "language_info": {
      "name": "python"
    }
  },
  "cells": [
    {
      "cell_type": "markdown",
      "metadata": {
        "id": "view-in-github",
        "colab_type": "text"
      },
      "source": [
        "<a href=\"https://colab.research.google.com/github/divya042003/PRICE-PREDICTION/blob/main/PRICE_PREDICTION.ipynb\" target=\"_parent\"><img src=\"https://colab.research.google.com/assets/colab-badge.svg\" alt=\"Open In Colab\"/></a>"
      ]
    },
    {
      "cell_type": "markdown",
      "source": [
        "Analysize and prediction of housing dataset to predict house rent price using multiple regression algorithm\n",
        "\n",
        "Task1: Gathering the dataset ,Cleaning and data preprocessing\n",
        "\n",
        "Task2:Selection of particular algorithm\n",
        "\n",
        "Task3: Evaluate the model to acheive maximum accuracy"
      ],
      "metadata": {
        "id": "NzwW0_P7TlGI"
      }
    },
    {
      "cell_type": "code",
      "source": [
        "import numpy as np\n",
        "import pandas as pd\n",
        "import matplotlib.pyplot as plt\n",
        "import seaborn as sns"
      ],
      "metadata": {
        "id": "63b5O-p1Tqe4"
      },
      "execution_count": null,
      "outputs": []
    },
    {
      "cell_type": "markdown",
      "source": [
        "Overview\n",
        "\n",
        "This project aims to predict house rent prices using a multiple linear regression model. The project involves gathering, cleaning, and preprocessing a housing dataset, selecting an appropriate algorithm (multiple linear regression), training the model, evaluating its performance, and finally using it to predict house rent prices for new inputs."
      ],
      "metadata": {
        "id": "i9bG0Q9D8wG3"
      }
    },
    {
      "cell_type": "code",
      "source": [
        "data=pd.read_csv('Housing.csv')\n",
        "data.head()\n",
        "ta=data.copy()\n",
        "ta.head()"
      ],
      "metadata": {
        "id": "dLZ8oq9H6985"
      },
      "execution_count": null,
      "outputs": []
    },
    {
      "cell_type": "markdown",
      "source": [
        "Dataset Summary\n",
        "\n",
        "The dataset used in this project likely contains information about various features of houses, such as area, number of bedrooms, number of bathrooms, parking spaces, number of stories, and the corresponding rent price.\n",
        "\n",
        "Data Cleaning and Preprocessing: Categorical features in the dataset were converted to numerical representations using mapping techniques. For example, 'yes' and 'no' values were mapped to 1 and 0, respectively. This was done for features like 'mainroad', 'guestroom', 'basement', 'hotwaterheating', 'airconditioning', and 'prefarea'. Additionally, the 'furnishingstatus' feature was mapped to numerical values (1 for 'furnished', 2 for 'semi-furnished', and 3 for 'unfurnished').\n",
        "Feature Selection: The project focuses on five key features for prediction: area, bedrooms, bathrooms, parking, and stories. These features were selected as independent variables (x), while the 'price' column was used as the dependent variable (y).\n",
        "Data Splitting: The dataset was split into training and testing sets using train_test_split with a test_size of 0.2 and a random_state of 42. This ensures that 80% of the data is used for training the model, and 20% is used for evaluating its performance."
      ],
      "metadata": {
        "id": "rZ1scooP8gLl"
      }
    },
    {
      "cell_type": "code",
      "source": [
        "ta['mainroad']=data['mainroad'].map({'yes':1,'no':0})\n",
        "ta['guestroom']=data['guestroom'].map({'yes':1,'no':0})\n",
        "ta['basement']=data['basement'].map({'yes':1,'no':0})\n",
        "ta['hotwaterheating']=data['hotwaterheating'].map({'yes':1,'no':0})\n",
        "ta['airconditioning']=data['airconditioning'].map({'yes':1,'no':0})\n",
        "ta['prefarea']=data['prefarea'].map({'yes':1,'no':0})\n",
        "ta['furnishingstatus']=data['furnishingstatus'].map({'furnished':1,'semi-furnished':2,'unfurnished':3})\n",
        "\n",
        "\n"
      ],
      "metadata": {
        "id": "3SN4_sLFTtvn"
      },
      "execution_count": null,
      "outputs": []
    },
    {
      "cell_type": "code",
      "source": [
        "x=data[['area','bedrooms','bathrooms','parking','stories']]\n",
        "y=data['price']"
      ],
      "metadata": {
        "id": "RAPpUhExWinA"
      },
      "execution_count": null,
      "outputs": []
    },
    {
      "cell_type": "code",
      "source": [
        "from sklearn.model_selection import train_test_split\n",
        "X_train,X_test,y_train,y_test=train_test_split(x,y,test_size=0.2,random_state=42)"
      ],
      "metadata": {
        "id": "dwG0gILEYkIr"
      },
      "execution_count": null,
      "outputs": []
    },
    {
      "cell_type": "code",
      "source": [
        "from sklearn.linear_model import LinearRegression\n",
        "model=LinearRegression()\n",
        "model.fit(X_train,y_train)"
      ],
      "metadata": {
        "id": "8kCw_4vCZZi4"
      },
      "execution_count": null,
      "outputs": []
    },
    {
      "cell_type": "code",
      "source": [
        "y_pred=model.predict(X_test)\n"
      ],
      "metadata": {
        "id": "34eST83gZ4rv"
      },
      "execution_count": null,
      "outputs": []
    },
    {
      "cell_type": "code",
      "source": [
        "from sklearn.metrics import mean_squared_error, r2_score\n",
        "mse=mean_squared_error(y_test,y_pred)\n",
        "print(\"mean squared error:\",mse)\n",
        "r2=r2_score(y_test,y_pred)\n",
        "print(\"r2 score:\",r2)"
      ],
      "metadata": {
        "id": "BlmKXucEaTjn"
      },
      "execution_count": null,
      "outputs": []
    },
    {
      "cell_type": "code",
      "source": [
        "plt.figure(figsize=(10,6))\n",
        "sns.residplot(x=y_test,y=y_pred,lowess=True,color='blue')\n",
        "plt.xlabel('Actual Price')\n",
        "plt.ylabel('Predicted Price')\n",
        "plt.title('Residual Plot')\n",
        "plt.show()\n"
      ],
      "metadata": {
        "id": "mLGpJyQHfV5R"
      },
      "execution_count": null,
      "outputs": []
    },
    {
      "cell_type": "code",
      "source": [
        "plt.figure(figsize=(10,6))\n",
        "plt.scatter(y_test,y_pred,alpha=0.6)\n",
        "plt.plot([y_test.min(),y_test.max()],[y_test.min(),y_test.max()],'r--')\n",
        "plt.xlabel('Actual Price')\n",
        "plt.ylabel('Predicted Price')\n",
        "plt.title('Actual vs Predicted Price')"
      ],
      "metadata": {
        "id": "mVLaGB2Egj1g"
      },
      "execution_count": null,
      "outputs": []
    },
    {
      "cell_type": "code",
      "source": [
        "#take user input\n",
        "area=float(input(\"Enter areas:\"))\n",
        "bedrooms=int(input(\"Enter no of bedrooms:\"))\n",
        "bathrooms=int(input(\"Enter no of bathrooms:\"))\n",
        "parking=int(input(\"Enter no of parking:\"))\n",
        "stories=int(input(\"Enter no of stories:\"))\n"
      ],
      "metadata": {
        "id": "YJCjw5G3gtLF"
      },
      "execution_count": null,
      "outputs": []
    },
    {
      "cell_type": "code",
      "source": [
        "user_data=pd.DataFrame([[area,bedrooms,bathrooms,parking,stories]],columns=['area','bedrooms','bathrooms','parking','stories'])"
      ],
      "metadata": {
        "id": "o7O36l6Mi3T5"
      },
      "execution_count": null,
      "outputs": []
    },
    {
      "cell_type": "code",
      "source": [
        "predicted_price=model.predict(user_data)\n",
        "print(f\"The predicted price for the given input is:{predicted_price[0]}\")"
      ],
      "metadata": {
        "id": "73FB_A3HjQhn"
      },
      "execution_count": null,
      "outputs": []
    },
    {
      "cell_type": "markdown",
      "source": [
        "Conclusion\n",
        "\n",
        "The conclusion of the house rent price prediction project:\n",
        "\n",
        "Key features used for prediction: area, bedrooms, bathrooms, parking, and stories.\n",
        "\n",
        "Model performance was evaluated using MSE and R-squared metrics, indicating satisfactory results.\n",
        "\n",
        "Visualizations (residual plot, scatter plot) provided insights into model performance and actual vs. predicted price comparison.\n",
        "\n"
      ],
      "metadata": {
        "id": "5yMdgJ6v81WY"
      }
    },
    {
      "cell_type": "code",
      "source": [],
      "metadata": {
        "id": "3AG-ikqZjz1u"
      },
      "execution_count": null,
      "outputs": []
    }
  ]
}